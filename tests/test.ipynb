{
 "cells": [
  {
   "cell_type": "code",
   "execution_count": 3,
   "metadata": {},
   "outputs": [],
   "source": [
    "import os\n",
    "import json\n",
    "import jsonlines\n",
    "import tqdm"
   ]
  },
  {
   "cell_type": "code",
   "execution_count": 4,
   "metadata": {},
   "outputs": [],
   "source": [
    "filepath = \"/data/datasets/Skywork/SkyPile-150B/data/2020-40_zh_head_0000.jsonl\""
   ]
  },
  {
   "cell_type": "code",
   "execution_count": 5,
   "metadata": {},
   "outputs": [],
   "source": [
    "file = open(filepath)\n",
    "lines = file.readlines()"
   ]
  },
  {
   "cell_type": "code",
   "execution_count": 6,
   "metadata": {},
   "outputs": [
    {
     "name": "stdout",
     "output_type": "stream",
     "text": [
      "468550\n"
     ]
    }
   ],
   "source": [
    "print(len(lines))"
   ]
  },
  {
   "cell_type": "code",
   "execution_count": 9,
   "metadata": {},
   "outputs": [
    {
     "name": "stdout",
     "output_type": "stream",
     "text": [
      "{\"text\": \"会计人员信息登记和变更，是会计人员顺利开展继续教育、会计专业技术资格考试报名、高级会计专业技术资格评审、参加高端会计人才选拔等的重要基础信息。广大会计人员一定要高度重视信息登记和变更工作，保证信息的完整性和准确性。 信息采集内容是按照全国会计人员信息管理要求列示的最基本信息，旨在为会计专业技术资格考试、高级(正高级)会计师评审、继续教育学习、会计类培训报名、会计人才选拔等工作提供信息检索和核查，实现会计资格考试报名和继续教育等“零跑腿”服务。 会计人员范围是指根据《中华人民共和国会计法》的规定，在国家机关、社会团体、企业、事业单位和其他组织中从事会计核算、实行会计监督等会计工作的人员。山东省内的会计人员，具体包括：具有会计专业技术(含初级、中级、高级、正高级)资格的人员;不具有会计专业技术资格但从事会计工作的人员。 从事会计工作的人员指从事下列具体工作的人员： (一)出纳; (二)稽核; (三)资产、负债和所有者权益(净资产)的核算; (四)收入、费用(支出)的核算; (五)财务成果(政府预算执行结果)的核算; (六)财务会计报告(决算报告)编制; (七)会计监督; (八)会计机构内会计档案管理; (九)其他会计工作。 担任单位会计机构负责人(会计主管人员)、总会计师的人员，属于会计人员。 会计人员信息采集分为集中采集和长期采集阶段， 集中采集阶段：2019年4月20日至6月30日。 长期采集阶段：会计人员可以继续长期进行信息采集。 会计人员应根据个人信息变化情况，及时登录系统对个人信息进行更新，山东省财政厅将对连续3年个人信息(包括继续教育)未更新的人员进行清理。 信息采集采用会计人员网上填报本人信息、上传相关资料和财政部门审核确认的方式。 (一)会计人员登陆山东省财政厅网站([URL]，点击右下角“山东会计管理”专题页面，“进入“会计人员信息采集”入口，根据说明和提示注册并填报相关信息。 (二)各级财政部门会计管理人员登陆会计人员信息采集系统管理端，根据申报人员填报的信息和提交的证明材料进行审核。 (三)信息采集遵循属地化原则，会计人员在工作单位所在地采集信息。 请广大会计从业人员务必确保信息的真实性、准确性、完整性，避免损害您的个人信用和从业资格。\\n\"}\n",
      "\n"
     ]
    }
   ],
   "source": [
    "line = lines[7]\n",
    "print(line)"
   ]
  },
  {
   "cell_type": "code",
   "execution_count": 10,
   "metadata": {},
   "outputs": [
    {
     "name": "stdout",
     "output_type": "stream",
     "text": [
      "会计人员信息登记和变更，是会计人员顺利开展继续教育、会计专业技术资格考试报名、高级会计专业技术资格评审、参加高端会计人才选拔等的重要基础信息。广大会计人员一定要高度重视信息登记和变更工作，保证信息的完整性和准确性。 信息采集内容是按照全国会计人员信息管理要求列示的最基本信息，旨在为会计专业技术资格考试、高级(正高级)会计师评审、继续教育学习、会计类培训报名、会计人才选拔等工作提供信息检索和核查，实现会计资格考试报名和继续教育等“零跑腿”服务。 会计人员范围是指根据《中华人民共和国会计法》的规定，在国家机关、社会团体、企业、事业单位和其他组织中从事会计核算、实行会计监督等会计工作的人员。山东省内的会计人员，具体包括：具有会计专业技术(含初级、中级、高级、正高级)资格的人员;不具有会计专业技术资格但从事会计工作的人员。 从事会计工作的人员指从事下列具体工作的人员： (一)出纳; (二)稽核; (三)资产、负债和所有者权益(净资产)的核算; (四)收入、费用(支出)的核算; (五)财务成果(政府预算执行结果)的核算; (六)财务会计报告(决算报告)编制; (七)会计监督; (八)会计机构内会计档案管理; (九)其他会计工作。 担任单位会计机构负责人(会计主管人员)、总会计师的人员，属于会计人员。 会计人员信息采集分为集中采集和长期采集阶段， 集中采集阶段：2019年4月20日至6月30日。 长期采集阶段：会计人员可以继续长期进行信息采集。 会计人员应根据个人信息变化情况，及时登录系统对个人信息进行更新，山东省财政厅将对连续3年个人信息(包括继续教育)未更新的人员进行清理。 信息采集采用会计人员网上填报本人信息、上传相关资料和财政部门审核确认的方式。 (一)会计人员登陆山东省财政厅网站([URL]，点击右下角“山东会计管理”专题页面，“进入“会计人员信息采集”入口，根据说明和提示注册并填报相关信息。 (二)各级财政部门会计管理人员登陆会计人员信息采集系统管理端，根据申报人员填报的信息和提交的证明材料进行审核。 (三)信息采集遵循属地化原则，会计人员在工作单位所在地采集信息。 请广大会计从业人员务必确保信息的真实性、准确性、完整性，避免损害您的个人信用和从业资格。\n",
      "\n",
      "1\n"
     ]
    },
    {
     "data": {
      "text/plain": [
       "str"
      ]
     },
     "execution_count": 10,
     "metadata": {},
     "output_type": "execute_result"
    }
   ],
   "source": [
    "text = json.loads(line)[\"text\"]\n",
    "print(text)\n",
    "print(len(text[0]))\n",
    "type(text)"
   ]
  },
  {
   "cell_type": "code",
   "execution_count": 10,
   "metadata": {},
   "outputs": [
    {
     "ename": "AttributeError",
     "evalue": "module 'jsonlines' has no attribute 'load'",
     "output_type": "error",
     "traceback": [
      "\u001b[0;31m---------------------------------------------------------------------------\u001b[0m",
      "\u001b[0;31mAttributeError\u001b[0m                            Traceback (most recent call last)",
      "\u001b[1;32m/data/project/TinyLlama/test.ipynb 单元格 3\u001b[0m line \u001b[0;36m3\n\u001b[1;32m      <a href='vscode-notebook-cell://ssh-remote%2Bvast-gpu-1/data/project/TinyLlama/test.ipynb#W1sdnNjb2RlLXJlbW90ZQ%3D%3D?line=0'>1</a>\u001b[0m \u001b[39mwith\u001b[39;00m \u001b[39mopen\u001b[39m(filepath, \u001b[39m\"\u001b[39m\u001b[39mrb\u001b[39m\u001b[39m\"\u001b[39m) \u001b[39mas\u001b[39;00m f:\n\u001b[1;32m      <a href='vscode-notebook-cell://ssh-remote%2Bvast-gpu-1/data/project/TinyLlama/test.ipynb#W1sdnNjb2RlLXJlbW90ZQ%3D%3D?line=1'>2</a>\u001b[0m     \u001b[39mfor\u001b[39;00m row \u001b[39min\u001b[39;00m f:\n\u001b[0;32m----> <a href='vscode-notebook-cell://ssh-remote%2Bvast-gpu-1/data/project/TinyLlama/test.ipynb#W1sdnNjb2RlLXJlbW90ZQ%3D%3D?line=2'>3</a>\u001b[0m         text \u001b[39m=\u001b[39m jsonlines\u001b[39m.\u001b[39;49mload(line)\n\u001b[1;32m      <a href='vscode-notebook-cell://ssh-remote%2Bvast-gpu-1/data/project/TinyLlama/test.ipynb#W1sdnNjb2RlLXJlbW90ZQ%3D%3D?line=3'>4</a>\u001b[0m         \u001b[39mprint\u001b[39m(text)\n",
      "\u001b[0;31mAttributeError\u001b[0m: module 'jsonlines' has no attribute 'load'"
     ]
    }
   ],
   "source": [
    "with open(filepath, \"rb\") as f:\n",
    "    for row in f:\n",
    "        text = jsonlines.loads(line)\n",
    "        print(text)"
   ]
  },
  {
   "cell_type": "code",
   "execution_count": null,
   "metadata": {},
   "outputs": [],
   "source": [
    "import jsonlines"
   ]
  },
  {
   "cell_type": "code",
   "execution_count": null,
   "metadata": {},
   "outputs": [],
   "source": [
    "data."
   ]
  }
 ],
 "metadata": {
  "kernelspec": {
   "display_name": "cu118",
   "language": "python",
   "name": "python3"
  },
  "language_info": {
   "codemirror_mode": {
    "name": "ipython",
    "version": 3
   },
   "file_extension": ".py",
   "mimetype": "text/x-python",
   "name": "python",
   "nbconvert_exporter": "python",
   "pygments_lexer": "ipython3",
   "version": "3.10.13"
  }
 },
 "nbformat": 4,
 "nbformat_minor": 2
}
